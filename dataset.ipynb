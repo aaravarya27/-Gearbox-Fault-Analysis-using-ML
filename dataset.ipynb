{
 "cells": [
  {
   "cell_type": "code",
   "execution_count": 19,
   "metadata": {},
   "outputs": [],
   "source": [
    "import pandas as pd\n",
    "import os as os\n",
    "# Creating empty list for broken tooth and healthy gearbox datasets\n",
    "broken = []\n",
    "healthy = []\n",
    "\n",
    "pth1 = 'dataset/BrokenTooth'\n",
    "pth2 = 'dataset/Healthy'\n",
    "\n",
    "for file_name in sorted(os.listdir(pth1)):\n",
    "    this_df = pd.read_csv(os.path.join(pth1, file_name))\n",
    "    this_df['load'] = 10*int(file_name[5])\n",
    "    this_df['gearbox_status'] = 0\n",
    "    broken.append(this_df)\n",
    "\n",
    "for file_name in sorted(os.listdir(pth2)):\n",
    "    this_df = pd.read_csv(os.path.join(pth2, file_name))\n",
    "    this_df['load'] = 10*int(file_name[5])\n",
    "    this_df['gearbox_status'] = 1\n",
    "    healthy.append(this_df)\n"
   ]
  },
  {
   "cell_type": "code",
   "execution_count": null,
   "metadata": {},
   "outputs": [],
   "source": [
    "print(broken[0].iloc[:,0])\n",
    "print(healthy[0].iloc[:,0])"
   ]
  },
  {
   "cell_type": "code",
   "execution_count": 20,
   "metadata": {},
   "outputs": [],
   "source": [
    "healthy_agg = healthy[0]\n",
    "broken_agg = broken[0]\n",
    "for i in range(1,10):\n",
    "    healthy_agg = healthy_agg.append(healthy[i], ignore_index=True)\n",
    "    broken_agg = broken_agg.append(broken[i], ignore_index=True)"
   ]
  },
  {
   "cell_type": "code",
   "execution_count": 21,
   "metadata": {},
   "outputs": [],
   "source": [
    "dataset = pd.concat([healthy_agg, broken_agg], ignore_index=True)"
   ]
  },
  {
   "cell_type": "code",
   "execution_count": 22,
   "metadata": {},
   "outputs": [],
   "source": [
    "shuffle_data = dataset.sample(frac=1)"
   ]
  },
  {
   "cell_type": "code",
   "execution_count": 23,
   "metadata": {},
   "outputs": [],
   "source": [
    "shuffle_data.to_csv('shuffle_data.csv', index=False)"
   ]
  },
  {
   "cell_type": "code",
   "execution_count": 25,
   "metadata": {},
   "outputs": [
    {
     "data": {
      "text/html": [
       "<div>\n",
       "<style scoped>\n",
       "    .dataframe tbody tr th:only-of-type {\n",
       "        vertical-align: middle;\n",
       "    }\n",
       "\n",
       "    .dataframe tbody tr th {\n",
       "        vertical-align: top;\n",
       "    }\n",
       "\n",
       "    .dataframe thead th {\n",
       "        text-align: right;\n",
       "    }\n",
       "</style>\n",
       "<table border=\"1\" class=\"dataframe\">\n",
       "  <thead>\n",
       "    <tr style=\"text-align: right;\">\n",
       "      <th></th>\n",
       "      <th>a1</th>\n",
       "      <th>a2</th>\n",
       "      <th>a3</th>\n",
       "      <th>a4</th>\n",
       "      <th>load</th>\n",
       "      <th>gearbox_status</th>\n",
       "    </tr>\n",
       "  </thead>\n",
       "  <tbody>\n",
       "    <tr>\n",
       "      <th>0</th>\n",
       "      <td>9.39445</td>\n",
       "      <td>-6.777150</td>\n",
       "      <td>-0.197674</td>\n",
       "      <td>-4.729850</td>\n",
       "      <td>80</td>\n",
       "      <td>0</td>\n",
       "    </tr>\n",
       "    <tr>\n",
       "      <th>1</th>\n",
       "      <td>1.87268</td>\n",
       "      <td>-0.579446</td>\n",
       "      <td>-1.851470</td>\n",
       "      <td>0.882369</td>\n",
       "      <td>0</td>\n",
       "      <td>1</td>\n",
       "    </tr>\n",
       "    <tr>\n",
       "      <th>2</th>\n",
       "      <td>-0.68408</td>\n",
       "      <td>2.839110</td>\n",
       "      <td>-3.125930</td>\n",
       "      <td>2.634830</td>\n",
       "      <td>70</td>\n",
       "      <td>1</td>\n",
       "    </tr>\n",
       "    <tr>\n",
       "      <th>3</th>\n",
       "      <td>-2.08500</td>\n",
       "      <td>1.432950</td>\n",
       "      <td>1.455480</td>\n",
       "      <td>-6.255140</td>\n",
       "      <td>30</td>\n",
       "      <td>0</td>\n",
       "    </tr>\n",
       "    <tr>\n",
       "      <th>4</th>\n",
       "      <td>-2.27889</td>\n",
       "      <td>1.224170</td>\n",
       "      <td>-5.155750</td>\n",
       "      <td>-3.673510</td>\n",
       "      <td>90</td>\n",
       "      <td>0</td>\n",
       "    </tr>\n",
       "  </tbody>\n",
       "</table>\n",
       "</div>"
      ],
      "text/plain": [
       "        a1        a2        a3        a4  load  gearbox_status\n",
       "0  9.39445 -6.777150 -0.197674 -4.729850    80               0\n",
       "1  1.87268 -0.579446 -1.851470  0.882369     0               1\n",
       "2 -0.68408  2.839110 -3.125930  2.634830    70               1\n",
       "3 -2.08500  1.432950  1.455480 -6.255140    30               0\n",
       "4 -2.27889  1.224170 -5.155750 -3.673510    90               0"
      ]
     },
     "execution_count": 25,
     "metadata": {},
     "output_type": "execute_result"
    }
   ],
   "source": [
    "data = pd.read_csv('shuffle_data.csv')\n",
    "data.head()"
   ]
  },
  {
   "cell_type": "code",
   "execution_count": 39,
   "metadata": {},
   "outputs": [],
   "source": [
    "from sklearn.model_selection import train_test_split\n",
    "\n",
    "train_data, test = train_test_split(data, train_size=0.6)\n",
    "test.sample(frac=1)\n",
    "\n",
    "eval_data, test_data = train_test_split(test, train_size=0.5)"
   ]
  },
  {
   "cell_type": "code",
   "execution_count": 43,
   "metadata": {},
   "outputs": [],
   "source": [
    "train_data.to_csv('train_data.csv', index=False)\n",
    "eval_data.to_csv('eval_data.csv', index=False)\n",
    "test_data.to_csv('test_data.csv', index=False)"
   ]
  },
  {
   "cell_type": "code",
   "execution_count": null,
   "metadata": {},
   "outputs": [],
   "source": []
  }
 ],
 "metadata": {
  "interpreter": {
   "hash": "397704579725e15f5c7cb49fe5f0341eb7531c82d19f2c29d197e8b64ab5776b"
  },
  "kernelspec": {
   "display_name": "Python 3.9.6 64-bit",
   "language": "python",
   "name": "python3"
  },
  "language_info": {
   "codemirror_mode": {
    "name": "ipython",
    "version": 3
   },
   "file_extension": ".py",
   "mimetype": "text/x-python",
   "name": "python",
   "nbconvert_exporter": "python",
   "pygments_lexer": "ipython3",
   "version": "3.9.6"
  },
  "orig_nbformat": 4
 },
 "nbformat": 4,
 "nbformat_minor": 2
}
