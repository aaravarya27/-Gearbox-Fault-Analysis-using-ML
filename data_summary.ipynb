{
 "cells": [
  {
   "cell_type": "code",
   "execution_count": null,
   "metadata": {},
   "outputs": [],
   "source": [
    "### READING THE DATASET\n",
    "\n",
    "import pandas as pd\n",
    "import os as os\n",
    "import numpy as np\n",
    "# Creating empty list for broken tooth and healthy gearbox datasets\n",
    "broken = []\n",
    "healthy = []\n",
    "\n",
    "# Defining the path where the datasets are stored\n",
    "pth1 = 'dataset/BrokenTooth'\n",
    "pth2 = 'dataset/Healthy'\n",
    "\n",
    "# Reading the dataset as the list items using the OS library to access the files and read_csv function from pandas to read the daatasets \n",
    "# **Reading each file in the BrokenTooth and Healthy directories and appending it to the respective lists as pandas' DataFrame object (abbr.: df)\n",
    "for file_name in os.listdir(pth1):\n",
    "    this_df = pd.read_csv(os.path.join(pth1, file_name))\n",
    "    this_df['load'] = 10*int(file_name[5])\n",
    "    this_df['gearbox_status'] = 0\n",
    "    broken.append(this_df)\n",
    "\n",
    "for file_name in os.listdir(pth2):\n",
    "    this_df = pd.read_csv(os.path.join(pth2, file_name))\n",
    "    this_df['load'] = 10*int(file_name[5])\n",
    "    this_df['gearbox_status'] = 1\n",
    "    healthy.append(this_df)"
   ]
  },
  {
   "cell_type": "code",
   "execution_count": null,
   "metadata": {},
   "outputs": [],
   "source": [
    "# Aggregating dataset based on health status\n",
    "# broken_agg = broken[0]\n",
    "# healthy_agg = healthy[0]\n",
    "# for i in range(1,10):\n",
    "#     broken_agg = pd.concat([broken_agg, broken[i]], ignore_index=True)\n",
    "#     healthy_agg = pd.concat([healthy_agg, healthy[i]], ignore_index=True)\n",
    "\n",
    "# print(broken[0])"
   ]
  },
  {
   "cell_type": "code",
   "execution_count": null,
   "metadata": {},
   "outputs": [],
   "source": [
    "### DATA VISUALISATION\n",
    "\n",
    "# import math\n",
    "\n",
    "# def divide_into(df, n):\n",
    "#     group_size = n\n",
    "#     df_groups = []\n",
    "#     for i in range(math.ceil(df['a1'].count()/group_size)):\n",
    "#         new_df = df.iloc[i*group_size:(i+1)*group_size, :]\n",
    "#         df_groups.append(new_df)\n",
    "#     return df_groups\n",
    "\n",
    "# def get_group_stdevs(df, n):\n",
    "#     groups = divide_into(df, n)\n",
    "#     stdevs = pd.DataFrame(map(pd.DataFrame.std, groups))\n",
    "#     stdevs['load'] = df['load']\n",
    "#     stdevs['gearbox_status'] = df['gearbox_status']\n",
    "    \n",
    "#     return stdevs\n",
    "\n",
    "# broken_stdev = []\n",
    "# for i in range(0,10):\n",
    "#     broken_stdev.append(get_group_stdevs(broken[i], 100))\n",
    "# print(broken_stdev[3])\n",
    "\n",
    "# healthy_stdev = []\n",
    "# for i in range(0,10):\n",
    "#     healthy_stdev.append(get_group_stdevs(healthy[i], 100))\n",
    "# print(healthy_stdev[3])"
   ]
  },
  {
   "cell_type": "code",
   "execution_count": null,
   "metadata": {},
   "outputs": [],
   "source": [
    "import matplotlib.pyplot as plt\n",
    "import matplotlib.gridspec as gridspec\n",
    "import seaborn as sns\n",
    "\n",
    "load = 0\n",
    "dataset = pd.concat([broken[load], healthy[load]], axis=0)\n",
    "\n",
    "plt.figure(figsize=(15,28*4))\n",
    "gs = gridspec.GridSpec(28, 1)\n",
    "for i, cn in enumerate(dataset[['a1','a2','a3','a4']]):\n",
    "    ax = plt.subplot(gs[i])\n",
    "    sns.distplot(dataset[cn][dataset.gearbox_status == 0], bins=50, color=\"red\")\n",
    "    sns.distplot(dataset[cn][dataset.gearbox_status == 1], bins= 50, color=\"lime\")\n",
    "    ax.set_xlabel('')\n",
    "    plt.legend(['healthy', 'broken'])\n",
    "    ax.set_title('histogram for ' + str(cn))\n",
    "plt.show()"
   ]
  }
 ],
 "metadata": {
  "interpreter": {
   "hash": "397704579725e15f5c7cb49fe5f0341eb7531c82d19f2c29d197e8b64ab5776b"
  },
  "kernelspec": {
   "display_name": "Python 3.9.6 64-bit",
   "language": "python",
   "name": "python3"
  },
  "language_info": {
   "codemirror_mode": {
    "name": "ipython",
    "version": 3
   },
   "file_extension": ".py",
   "mimetype": "text/x-python",
   "name": "python",
   "nbconvert_exporter": "python",
   "pygments_lexer": "ipython3",
   "version": "3.10.2"
  },
  "orig_nbformat": 4
 },
 "nbformat": 4,
 "nbformat_minor": 2
}
