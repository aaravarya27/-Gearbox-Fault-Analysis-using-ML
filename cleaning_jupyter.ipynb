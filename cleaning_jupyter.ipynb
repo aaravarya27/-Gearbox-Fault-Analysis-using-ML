{
 "cells": [
  {
   "cell_type": "code",
   "execution_count": null,
   "metadata": {},
   "outputs": [],
   "source": [
    "import pandas as pd\n",
    "import os as os\n",
    "\n",
    "# Creating empty list for broken tooth and healthy gearbox datasets\n",
    "broken = []\n",
    "healthy = []\n",
    "\n",
    "# Defining the path where the datasets are stored\n",
    "pth1 = 'dataset/BrokenTooth'\n",
    "pth2 = 'dataset/Healthy'\n",
    "\n",
    "# Reading the dataset as the list items using the OS library to access the files and read_csv function from pandas to read the daatasets \n",
    "i = 0\n",
    "for file in os.listdir(pth1):\n",
    "    broken.append(pd.read_csv(os.path.join(pth1, file)))\n",
    "    #print(broken[i].head())\n",
    "    i += 1\n",
    "    \n",
    "j = 0\n",
    "for file in os.listdir(pth2):\n",
    "    healthy.append(pd.read_csv(os.path.join(pth2, file)))\n",
    "    #print(healthy[j].head())\n",
    "    j += 1"
   ]
  },
  {
   "cell_type": "code",
   "execution_count": 2,
   "metadata": {},
   "outputs": [],
   "source": [
    "# Adding load and broken/healthy information to the dataset\n",
    "for i in range(0, 10):\n",
    "    load = 10*i\n",
    "    # gearbox_status = 0 refers the gearbox is faulty while, failure = 1 refers to healthy gearbox\n",
    "    broken[i]['load'] = load\n",
    "    broken[i]['gearbox_status'] = 0\n",
    "    healthy[i]['load'] = load\n",
    "    healthy[i]['gearbox_status'] = 1"
   ]
  },
  {
   "cell_type": "code",
   "execution_count": null,
   "metadata": {},
   "outputs": [],
   "source": [
    "# Aggregating dataset for broken and healthy \n",
    "healthy_agg = healthy[0]\n",
    "broken_agg = broken[0]\n",
    "for i in range(1,10):\n",
    "    healthy_agg = healthy_agg.append(healthy[i], ignore_index=True)\n",
    "    broken_agg = broken_agg.append(broken[i], ignore_index=True)\n",
    "\n",
    "# Agregrating total dataset\n",
    "healthy_broken_agg = pd.concat([healthy_agg, broken_agg], axis=0, ignore_index=True)"
   ]
  }
 ],
 "metadata": {
  "interpreter": {
   "hash": "397704579725e15f5c7cb49fe5f0341eb7531c82d19f2c29d197e8b64ab5776b"
  },
  "kernelspec": {
   "display_name": "Python 3.9.6 64-bit",
   "language": "python",
   "name": "python3"
  },
  "language_info": {
   "codemirror_mode": {
    "name": "ipython",
    "version": 3
   },
   "file_extension": ".py",
   "mimetype": "text/x-python",
   "name": "python",
   "nbconvert_exporter": "python",
   "pygments_lexer": "ipython3",
   "version": "3.9.6"
  },
  "orig_nbformat": 4
 },
 "nbformat": 4,
 "nbformat_minor": 2
}
